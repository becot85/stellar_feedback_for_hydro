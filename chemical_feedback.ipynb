{
 "cells": [
  {
   "cell_type": "markdown",
   "metadata": {},
   "source": [
    "# Simple Stellar Population (SSP) Feedback with SYGMA"
   ]
  },
  {
   "cell_type": "code",
   "execution_count": null,
   "metadata": {},
   "outputs": [],
   "source": [
    "import matplotlib\n",
    "import matplotlib.pyplot as plt\n",
    "import numpy as np\n",
    "from NuPyCEE import sygma\n",
    "from NuPyCEE import omega"
   ]
  },
  {
   "cell_type": "markdown",
   "metadata": {},
   "source": [
    "### Define functions for this notebook"
   ]
  },
  {
   "cell_type": "code",
   "execution_count": null,
   "metadata": {},
   "outputs": [],
   "source": [
    "%run notebook_functions.py"
   ]
  },
  {
   "cell_type": "markdown",
   "metadata": {},
   "source": [
    "### Set parameters"
   ]
  },
  {
   "cell_type": "code",
   "execution_count": null,
   "metadata": {},
   "outputs": [],
   "source": [
    "# Parameter dictionary\n",
    "params = dict()\n",
    "\n",
    "# AGB and massive stars yields\n",
    "params[\"table\"] = 'yield_tables/agb_and_massive_stars_C15_LC18_R_mix.txt'\n",
    "params[\"imf_yields_range\"] = [1.0, 100.0] # [Msun] - Stars in that mass range will eject metals\n",
    "\n",
    "# Transition mass between AGB and massive star yields\n",
    "# !!! --> CC SNe will be counted from the transition mass up to imf_yields_range[1]\n",
    "params[\"transitionmass\"] = 8.0 # [Msun]\n",
    "\n",
    "# Type of IMF - can be a custom one\n",
    "params[\"imf_type\"] = 'chabrier'\n",
    "params[\"imf_bdys\"] = [0.1, 100] # [Msun] - Lower and upper limit of the IMF\n",
    "\n",
    "# Mass of the stellar population [Msun]\n",
    "params[\"mgal\"] = 1.0\n",
    "\n",
    "# SNe Ia\n",
    "params[\"sn1a_table\"] = 'yield_tables/sn1a_i99_W7.txt'\n",
    "params[\"nb_1a_per_m\"] = 1.0e-3 # Number of SN Ia per units of Msun formed\n",
    "params[\"sn1a_rate\"] = 'power_law' # Shape (delay-time distribution) of the SN Ia rate\n",
    "params[\"beta_pow\"] = -1.0 # Slope of the power law (SN Ia rate)\n",
    "\n",
    "# Neutron star mergers (NSMs)\n",
    "params[\"ns_merger_on\"] = True\n",
    "params[\"nsmerger_table\"] = 'yield_tables/r_process_arnould_2007.txt' # r-process table (based on the solar composition)\n",
    "params[\"nsm_dtd_power\"] = [3.0e7, 1.0e10, -1.0] # Shape of the NSM rate, t^-1 from 30 Myr to 10 Gyr\n",
    "params[\"nb_nsm_per_m\"] = 1.5e-5 # Number of NSM per units of Msun formed\n",
    "params[\"m_ej_nsm\"] = 1.0e-2 # Mass ejected by each NSM \n",
    "\n",
    "# Timestep of the output\n",
    "params[\"dt\"] = 1.0e6\n",
    "params[\"special_timesteps\"] = 100 # Logarithmic timesteping\n",
    "# See more timestep options here: \n",
    "# https://github.com/NuGrid/NuPyCEE/blob/master/DOC/Capabilities/Timesteps_size_management.ipynb"
   ]
  },
  {
   "cell_type": "markdown",
   "metadata": {},
   "source": [
    "### Extract the list of available metallicities"
   ]
  },
  {
   "cell_type": "code",
   "execution_count": null,
   "metadata": {},
   "outputs": [],
   "source": [
    "# Run a dummy chemical evolution calculation to access the table info\n",
    "o_dummy = omega.omega(table=params[\"table\"])\n",
    "Z_table = o_dummy.Z_table\n",
    "nb_Z = len(o_dummy.Z_table)\n",
    "\n",
    "# Print the metallicities\n",
    "print(\"\\nAvailable metallicities (Z, mass fraction)\")\n",
    "print(\"  \",Z_table)"
   ]
  },
  {
   "cell_type": "markdown",
   "metadata": {},
   "source": [
    "### Run SYGMA for all available metallicities"
   ]
  },
  {
   "cell_type": "code",
   "execution_count": null,
   "metadata": {},
   "outputs": [],
   "source": [
    "sygma_instances = []\n",
    "for i_Z in range(nb_Z):\n",
    "    sygma_instances.append(sygma.sygma(iniZ=Z_table[i_Z], **params))"
   ]
  },
  {
   "cell_type": "markdown",
   "metadata": {},
   "source": [
    "### Write feedback table"
   ]
  },
  {
   "cell_type": "code",
   "execution_count": null,
   "metadata": {},
   "outputs": [],
   "source": [
    "# Choose your elements and output file name\n",
    "elements = ['H', 'He', 'C', 'O', 'Ne', 'Mg', 'Si', 'S', 'Fe', 'Eu', 'Ba']\n",
    "\n",
    "# Choose the kinetic energy released by sources [erg]\n",
    "e_per_CC_SN = 1.0e51\n",
    "e_per_SN_Ia = 1.0e51\n",
    "\n",
    "# Define the credits for generating the table\n",
    "prepared_by = \"your_name\"\n",
    "\n",
    "# Open the table\n",
    "enzo_table = open(\"your_table.txt\", \"w\")\n",
    "\n",
    "# Write the file header\n",
    "write_main_header(enzo_table, prepared_by, params)\n",
    "\n",
    "# For each metallicity \n",
    "for i_Z in range(nb_Z):\n",
    "\n",
    "    # Copy the instance\n",
    "    inst = sygma_instances[i_Z]\n",
    "    \n",
    "    # Write the metallicity and column labels\n",
    "    write_metallicity_header(enzo_table, inst, elements)\n",
    "    \n",
    "    # For each timestep ..\n",
    "    for i_t in range(inst.nb_timesteps):\n",
    "        \n",
    "        # Get the stellar ejecta rate [Msun/yr]\n",
    "        r_ej_elements, r_ej_tot, r_ej_Z = get_ejecta_rate(inst, i_t, elements)\n",
    "\n",
    "        # Get the kinetic energy rate [erg/s]\n",
    "        r_e_CC_SN, r_e_SN_Ia = get_energy_rate(inst, i_t, e_per_CC_SN, e_per_SN_Ia)\n",
    "        \n",
    "        # Write time [yr]\n",
    "        enzo_table.write(fill_with_space('%.4e'%inst.history.age[i_t]))\n",
    "        \n",
    "        # Write the mass ejection rates [Msun/yr]\n",
    "        for i_elem in range(len(r_ej_elements)):\n",
    "            enzo_table.write(fill_with_space('%.4e'%r_ej_elements[i_elem]))\n",
    "        enzo_table.write(fill_with_space('%.4e'%r_ej_tot))\n",
    "        enzo_table.write(fill_with_space('%.4e'%r_ej_Z))\n",
    "        \n",
    "        # Write energy rate [erg/s]\n",
    "        enzo_table.write(fill_with_space('%.4e'%r_e_CC_SN))\n",
    "        enzo_table.write(fill_with_space('%.4e'%r_e_SN_Ia))\n",
    "        \n",
    "        # Prepare for the next time entry\n",
    "        enzo_table.write(\"\\n\")\n",
    "        \n",
    "# Close the table\n",
    "enzo_table.close()"
   ]
  },
  {
   "cell_type": "code",
   "execution_count": null,
   "metadata": {},
   "outputs": [],
   "source": []
  }
 ],
 "metadata": {
  "kernelspec": {
   "display_name": "Python 3",
   "language": "python",
   "name": "python3"
  },
  "language_info": {
   "codemirror_mode": {
    "name": "ipython",
    "version": 3
   },
   "file_extension": ".py",
   "mimetype": "text/x-python",
   "name": "python",
   "nbconvert_exporter": "python",
   "pygments_lexer": "ipython3",
   "version": "3.7.4"
  }
 },
 "nbformat": 4,
 "nbformat_minor": 1
}
