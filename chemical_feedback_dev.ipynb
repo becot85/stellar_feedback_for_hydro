{
 "cells": [
  {
   "cell_type": "markdown",
   "metadata": {},
   "source": [
    "# Simple Stellar Population (SSP) Feedback with SYGMA"
   ]
  },
  {
   "cell_type": "code",
   "execution_count": 2,
   "metadata": {},
   "outputs": [],
   "source": [
    "import matplotlib.pyplot as plt\n",
    "import numpy as np\n",
    "from NuPyCEE import sygma\n",
    "from NuPyCEE import omega\n",
    "import fsps\n",
    "import h5py\n",
    "\n",
    "yield_dir = 'yield_tables/'"
   ]
  },
  {
   "cell_type": "markdown",
   "metadata": {},
   "source": [
    "### Set parameters for SYGMA"
   ]
  },
  {
   "cell_type": "code",
   "execution_count": 3,
   "metadata": {},
   "outputs": [],
   "source": [
    "# Parameter dictionary\n",
    "params = dict()\n",
    "\n",
    "# AGB and massive stars yields\n",
    "params[\"table\"] = yield_dir+'agb_and_massive_stars_K10_LC18_Ravg.txt'\n",
    "params[\"imf_yields_range\"] = [1.0, 100.0] # [Msun] - Stars in that mass range will eject metals\n",
    "\n",
    "# Transition mass between AGB and massive star yields\n",
    "# !!! --> CC SNe will be counted from the transition mass up to imf_yields_range[1]\n",
    "params[\"transitionmass\"] = 8.0 # [Msun]\n",
    "\n",
    "# Type of IMF - can be a custom one\n",
    "params[\"imf_type\"] = 'chabrier'\n",
    "params[\"imf_bdys\"] = [0.1, 100] # [Msun] - Lower and upper limit of the IMF\n",
    "\n",
    "# Mass of the stellar population [Msun]\n",
    "params[\"mgal\"] = 1.0\n",
    "\n",
    "# SNe Ia\n",
    "params[\"sn1a_table\"] = yield_dir+'sn1a_i99_W7.txt'\n",
    "params[\"nb_1a_per_m\"] = 1.0e-3 # Number of SN Ia per units of Msun formed\n",
    "params[\"sn1a_rate\"] = 'power_law' # Shape (delay-time distribution) of the SN Ia rate\n",
    "params[\"beta_pow\"] = -1.0 # Slope of the power law (SN Ia rate)\n",
    "\n",
    "# Neutron star mergers (NSMs)\n",
    "params[\"ns_merger_on\"] = True\n",
    "params[\"nsmerger_table\"] = yield_dir+'r_process_arnould_2007.txt' # r-process table (based on the solar composition)\n",
    "params[\"nsm_dtd_power\"] = [3.0e7, 1.0e10, -1.0] # Shape of the NSM rate, t^-1 from 30 Myr to 10 Gyr\n",
    "params[\"nb_nsm_per_m\"] = 1.5e-5 # Number of NSM per units of Msun formed\n",
    "params[\"m_ej_nsm\"] = 1.0e-2 # Mass ejected by each NSM \n",
    "\n",
    "# Timestep of the output\n",
    "params[\"dt\"] = 1.0e6\n",
    "params[\"special_timesteps\"] = 100 # Logarithmic timesteping\n",
    "# See more timestep options here: \n",
    "# https://github.com/NuGrid/NuPyCEE/blob/master/DOC/Capabilities/Timesteps_size_management.ipynb"
   ]
  },
  {
   "cell_type": "markdown",
   "metadata": {},
   "source": [
    "### Set parameters for FSPS\n",
    "http://dfm.io/python-fsps/current/stellarpop_api/"
   ]
  },
  {
   "cell_type": "code",
   "execution_count": 4,
   "metadata": {},
   "outputs": [],
   "source": [
    "# There should only ever be one StellarPopulation instance!\n",
    "sp = fsps.StellarPopulation(zcontinuous=1, # specify single metallicity\n",
    "                            sfh=0)         # compute an SSP; i.e., no SF hist\n",
    "                                           # SF is always normalized to 1"
   ]
  },
  {
   "cell_type": "code",
   "execution_count": 5,
   "metadata": {
    "scrolled": false
   },
   "outputs": [
    {
     "name": "stdout",
     "output_type": "stream",
     "text": [
      "Isochrone & Spectral libraries: (b'mist', b'miles', b'DL07') (can only be changed by recompiling FSPS)\n"
     ]
    }
   ],
   "source": [
    "sp.params['zred'] = 0.0\n",
    "\n",
    "# IMF - can still be custom\n",
    "sp.params['imf_type'] = 1 # Chabrier\n",
    "sp.params['imf_lower_limit'] = params['imf_bdys'][0]\n",
    "sp.params['imf_upper_limit'] = params['imf_bdys'][1]\n",
    "\n",
    "# Major feature toggles\n",
    "sp.params['add_neb_emission'] = False  # from Cloudy\n",
    "sp.params['add_neb_continuum'] = False # off if neb emis is False\n",
    "sp.params['nebemlineinspec'] = False   # incl emission fluxes in spectra\n",
    "\n",
    "sp.params['add_agb_dust_model'] = True  # scaled by agb_dust\n",
    "sp.params['add_dust_emission'] = False  # Draine & Li 2007; for CSPs\n",
    "sp.params['cloudy_dust'] = False        # incl dust in Cloudy tables\n",
    "\n",
    "sp.params['add_stellar_remnants'] = True # incl remnants in stellar mass calc\n",
    "\n",
    "# Add stellar velocity dispersion or wavelength smoothing; default is none\n",
    "sp.params['smooth_velocity'] = True # False smooths in wavelength space\n",
    "sp.params['sigma_smooth'] = 0.0     # if smooth_velocity, dispersion in km/s\n",
    "\n",
    "print('Isochrone & Spectral libraries:', sp.libraries,\n",
    "      '(can only be changed by recompiling FSPS)')"
   ]
  },
  {
   "cell_type": "markdown",
   "metadata": {},
   "source": [
    "### Extract the list of available metallicities"
   ]
  },
  {
   "cell_type": "code",
   "execution_count": 6,
   "metadata": {},
   "outputs": [
    {
     "name": "stdout",
     "output_type": "stream",
     "text": [
      "OMEGA run in progress..\n",
      "   OMEGA run completed - Run time: 0.3s\n",
      "\n",
      "Available metallicities (Z, mass fraction)\n",
      "   [0.02, 0.01345, 0.008, 0.004, 0.003236, 0.0003236, 0.0001, 3.236e-05]\n"
     ]
    }
   ],
   "source": [
    "# Run a dummy chemical evolution calculation to access the table info\n",
    "o_dummy = omega.omega(table=params[\"table\"])\n",
    "Z_table = o_dummy.Z_table\n",
    "nb_Z = len(Z_table)\n",
    "\n",
    "# Print the metallicities\n",
    "print(\"\\nAvailable metallicities (Z, mass fraction)\")\n",
    "print(\"  \",Z_table)"
   ]
  },
  {
   "cell_type": "markdown",
   "metadata": {},
   "source": [
    "### Run SYGMA for all available metallicities"
   ]
  },
  {
   "cell_type": "code",
   "execution_count": 7,
   "metadata": {
    "scrolled": false
   },
   "outputs": [
    {
     "name": "stdout",
     "output_type": "stream",
     "text": [
      "SYGMA run in progress..\n",
      "   SYGMA run completed - Run time: 0.08s\n",
      "SYGMA run in progress..\n",
      "   SYGMA run completed - Run time: 0.08s\n",
      "SYGMA run in progress..\n",
      "   SYGMA run completed - Run time: 0.08s\n",
      "SYGMA run in progress..\n",
      "   SYGMA run completed - Run time: 0.13s\n",
      "SYGMA run in progress..\n",
      "   SYGMA run completed - Run time: 0.07s\n",
      "SYGMA run in progress..\n",
      "   SYGMA run completed - Run time: 0.07s\n",
      "SYGMA run in progress..\n",
      "   SYGMA run completed - Run time: 0.08s\n",
      "SYGMA run in progress..\n",
      "   SYGMA run completed - Run time: 0.07s\n"
     ]
    }
   ],
   "source": [
    "sygma_instances = []\n",
    "for Z in Z_table:\n",
    "    sygma_instances.append(sygma.sygma(iniZ=Z, **params))"
   ]
  },
  {
   "cell_type": "markdown",
   "metadata": {},
   "source": [
    "### Run FSPS for all available metallicities"
   ]
  },
  {
   "cell_type": "code",
   "execution_count": 8,
   "metadata": {
    "scrolled": true
   },
   "outputs": [],
   "source": [
    "fsps_outputs = []\n",
    "Z_sol = 0.01295 # consistent with the grackle CLOUDY tables\n",
    "for Z in Z_table:\n",
    "    sp.params['logzsol'] = np.log10(Z/Z_sol)\n",
    "    \n",
    "wave, spec = sp.get_spectrum(peraa=True)"
   ]
  },
  {
   "cell_type": "code",
   "execution_count": 9,
   "metadata": {},
   "outputs": [
    {
     "data": {
      "text/plain": [
       "((5994,), (107, 5994), (107,))"
      ]
     },
     "execution_count": 9,
     "metadata": {},
     "output_type": "execute_result"
    }
   ],
   "source": [
    "wave.shape, spec.shape, sp.log_age.shape"
   ]
  },
  {
   "cell_type": "code",
   "execution_count": 10,
   "metadata": {},
   "outputs": [
    {
     "data": {
      "text/plain": [
       "Text(0, 0.5, 'log(sum(spectra))')"
      ]
     },
     "execution_count": 10,
     "metadata": {},
     "output_type": "execute_result"
    },
    {
     "data": {
      "image/png": "[encoded data removed]",
      "text/plain": [
       "<Figure size 640x480 with 1 Axes>"
      ]
     },
     "metadata": {},
     "output_type": "display_data"
    }
   ],
   "source": [
    "plt.plot(sp.log_lbol, np.log10(spec.sum(axis=1)))\n",
    "plt.plot(np.linspace(-1,3), np.linspace(-1,3), 'k:')\n",
    "plt.xlabel('log(L_bol)')\n",
    "plt.ylabel('log(sum(spectra))')"
   ]
  },
  {
   "cell_type": "markdown",
   "metadata": {},
   "source": [
    "### Create feedback table"
   ]
  },
  {
   "cell_type": "code",
   "execution_count": 11,
   "metadata": {},
   "outputs": [
    {
     "name": "stderr",
     "output_type": "stream",
     "text": [
      "/tmp/ipykernel_8985/203741976.py:78: RuntimeWarning: invalid value encountered in divide\n",
      "  metl_table /= mass_table\n"
     ]
    }
   ],
   "source": [
    "source_indx = {\"type2\": 0,\n",
    "               \"type1a\": 1,\n",
    "               \"agb\": 2,\n",
    "               \"massive\": 3}\n",
    "\n",
    "nb_src = len(source_indx)\n",
    "\n",
    "# Get the ages tracked by each SYGMA instance (i.e. each metallicity)\n",
    "# Ensure they are all the same and are special_timesteps+1 in number\n",
    "ages = np.array([inst.history.age for inst in sygma_instances])\n",
    "assert np.isclose(ages, ages[0]).all()\n",
    "assert np.all(ages.shape[1] == params[\"special_timesteps\"]+1)\n",
    "nb_dt = params[\"special_timesteps\"]\n",
    "\n",
    "met_key = np.zeros(nb_Z)\n",
    "age_key = ages[0]\n",
    "\n",
    "mass_table = np.zeros((nb_Z, nb_dt, nb_src))\n",
    "metl_table = np.zeros_like(mass_table)\n",
    "evnt_table = np.zeros((nb_Z, nb_dt, 2)) # just supernovae\n",
    "\n",
    "for i_Z in range(nb_Z):\n",
    "\n",
    "    model = sygma_instances[i_Z]\n",
    "    met_key[i_Z] = model.iniZ\n",
    "    hist = model.history\n",
    "\n",
    "    # SYGMA histories use a mix of lists & numpy arrays\n",
    "    ism_elem_yield_sn2 = [hist.ism_elem_yield[i] - \n",
    "                          (hist.ism_elem_yield_agb[i] +\n",
    "                           hist.ism_elem_yield_1a[i]  +\n",
    "                           hist.ism_elem_yield_massive[i])\n",
    "                          for i in range(len(hist.ism_elem_yield))]\n",
    "    \n",
    "    ism_elem_yield_sn2[0][0] = 0 # this is erroneously set to 1 for some reason\n",
    "\n",
    "    # Each set of ISM yields is time-integrated\n",
    "    # Use NumPy to differentiate in order to keep data the same shape\n",
    "    # (i.e., # ages by # elements, which is 81)\n",
    "    # inst_yield_sn2     = np.gradient(ism_elem_yield_sn2, hist.age, axis=0)\n",
    "    # inst_yield_sn1a    = np.gradient(hist.ism_elem_yield_1a, hist.age, axis=0)\n",
    "    # inst_yield_agb     = np.gradient(hist.ism_elem_yield_agb, hist.age, axis=0)\n",
    "    # inst_yield_massive = np.gradient(hist.ism_elem_yield_massive, hist.age, axis=0)\n",
    "\n",
    "    # Each set of ISM yields is time-integrated\n",
    "    # Manually differentiate so that we have nb_dt entries\n",
    "    # (the first axis dimension matches the number of ages, which is nb_dt+1)\n",
    "    # Division by the timestep (in yr) will happen after summing\n",
    "    inst_yield_sn2     = np.diff(ism_elem_yield_sn2, axis=0)\n",
    "    inst_yield_sn1a    = np.diff(hist.ism_elem_yield_1a, axis=0)\n",
    "    inst_yield_agb     = np.diff(hist.ism_elem_yield_agb, axis=0)\n",
    "    inst_yield_massive = np.diff(hist.ism_elem_yield_massive, axis=0)\n",
    "\n",
    "    # The gradient goes negative at some parts near the highest ages so set these to 0\n",
    "    inst_yield_sn2     = np.where(inst_yield_sn2 < 0, 0, inst_yield_sn2)\n",
    "    inst_yield_sn1a    = np.where(inst_yield_sn1a < 0, 0, inst_yield_sn1a)\n",
    "    inst_yield_agb     = np.where(inst_yield_agb < 0, 0, inst_yield_agb)\n",
    "    inst_yield_massive = np.where(inst_yield_massive < 0, 0, inst_yield_massive)\n",
    "\n",
    "    # Collect mass injected by each source (i.e. sum over all elements)\n",
    "    mass_table[i_Z, :, source_indx[\"type2\"]]   = inst_yield_sn2.sum(axis=1) / hist.timesteps \n",
    "    mass_table[i_Z, :, source_indx[\"type1a\"]]  = inst_yield_sn1a.sum(axis=1) / hist.timesteps\n",
    "    mass_table[i_Z, :, source_indx[\"agb\"]]     = inst_yield_agb.sum(axis=1) / hist.timesteps\n",
    "    mass_table[i_Z, :, source_indx[\"massive\"]] = inst_yield_massive.sum(axis=1) / hist.timesteps\n",
    "\n",
    "    # Collect metal mass injected by each source\n",
    "    # (i.e. sum over all metal elements)\n",
    "    metl_table[i_Z, :, source_indx[\"type2\"]]   = inst_yield_sn2[:, 2:].sum(axis=1) / hist.timesteps\n",
    "    metl_table[i_Z, :, source_indx[\"type1a\"]]  = inst_yield_sn1a[:, 2:].sum(axis=1) / hist.timesteps\n",
    "    metl_table[i_Z, :, source_indx[\"agb\"]]     = inst_yield_agb[:, 2:].sum(axis=1) / hist.timesteps\n",
    "    metl_table[i_Z, :, source_indx[\"massive\"]] = inst_yield_massive[:, 2:].sum(axis=1) / hist.timesteps\n",
    "\n",
    "    # Number of SNe per year\n",
    "    evnt_table[i_Z, :, source_indx[\"type2\"]]  = model.sn2_numbers / hist.timesteps\n",
    "    evnt_table[i_Z, :, source_indx[\"type1a\"]] = model.sn1a_numbers / hist.timesteps\n",
    "\n",
    "# Convert metal mass to metal fraction\n",
    "metl_table /= mass_table \n",
    "\n",
    "# Set all nan to zero (because there was no total mass in those cells)\n",
    "np.nan_to_num(metl_table, copy=False) # in-place\n",
    "\n",
    "# Perform final checks & unit conversions\n",
    "assert (mass_table >= 0).all()\n",
    "assert (metl_table >= 0).all()\n",
    "assert (evnt_table >= 0).all()\n",
    "\n",
    "# Convert rates to per second?"
   ]
  },
  {
   "cell_type": "markdown",
   "metadata": {},
   "source": [
    "### Write tables to HDF5"
   ]
  },
  {
   "cell_type": "code",
   "execution_count": 16,
   "metadata": {},
   "outputs": [],
   "source": [
    "with h5py.File(\"output_tables/sygma_feedback_table.h5\", \"w\") as f:\n",
    "\n",
    "    # Group for indexers\n",
    "    index_grp = f.create_group(\"indexers\")\n",
    "\n",
    "    # Write source key as attributes\n",
    "    for key, item in source_indx.items():\n",
    "        index_grp.attrs[key+\"_index\"] = item\n",
    "\n",
    "    index_grp.create_dataset(\"initial_metallicity\", data=met_key)\n",
    "    index_grp.create_dataset(\"population_age\", data=age_key)\n",
    "\n",
    "    # Group for SYGMA models\n",
    "    sygma_grp = f.create_group(\"sygma_models\")\n",
    "\n",
    "    # Write SYGMA parameters as attributes\n",
    "    for key, item in params.items():\n",
    "        sygma_grp.attrs[key] = item\n",
    "\n",
    "    mass_dset = sygma_grp.create_dataset(\"ejecta_mass\", data=mass_table)\n",
    "    metl_dset = sygma_grp.create_dataset(\"ejecta_metal_frac\", data=metl_table)\n",
    "    evnt_dset = sygma_grp.create_dataset(\"sne_event_rate\", data=evnt_table)\n",
    "\n",
    "    # also create group for fsps models \n",
    "    # and write model params to attr of that group\n",
    "    "
   ]
  }
 ],
 "metadata": {
  "kernelspec": {
   "display_name": "Python 3",
   "language": "python",
   "name": "python3"
  },
  "language_info": {
   "codemirror_mode": {
    "name": "ipython",
    "version": 3
   },
   "file_extension": ".py",
   "mimetype": "text/x-python",
   "name": "python",
   "nbconvert_exporter": "python",
   "pygments_lexer": "ipython3",
   "version": "3.11.0"
  }
 },
 "nbformat": 4,
 "nbformat_minor": 1
}
